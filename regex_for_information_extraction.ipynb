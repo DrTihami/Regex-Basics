{
  "cells": [
    {
      "cell_type": "markdown",
      "metadata": {
        "id": "view-in-github",
        "colab_type": "text"
      },
      "source": [
        "<a href=\"https://colab.research.google.com/github/DrTihami/Regex-Basics/blob/main/regex_for_information_extraction.ipynb\" target=\"_parent\"><img src=\"https://colab.research.google.com/assets/colab-badge.svg\" alt=\"Open In Colab\"/></a>"
      ]
    },
    {
      "cell_type": "markdown",
      "metadata": {
        "id": "7I10V_aLp2mn"
      },
      "source": [
        "<h1 align='center'>NLP Tutorial: Regular Expressions</h1>"
      ]
    },
    {
      "cell_type": "markdown",
      "metadata": {
        "id": "19pbjlykp2nB"
      },
      "source": [
        "<h3>(1) Regex in customer support</h3>"
      ]
    },
    {
      "cell_type": "markdown",
      "metadata": {
        "id": "IERYNTdcp2nC"
      },
      "source": [
        "<h3>Retrieve order number</h3>"
      ]
    },
    {
      "cell_type": "code",
      "execution_count": null,
      "metadata": {
        "id": "qQsXXJkgp2nD",
        "outputId": "ac4a3114-bb39-458b-879f-ce49dc1a3f36"
      },
      "outputs": [
        {
          "data": {
            "text/plain": [
              "['412889912']"
            ]
          },
          "execution_count": 56,
          "metadata": {},
          "output_type": "execute_result"
        }
      ],
      "source": [
        "import re\n",
        "\n",
        "chat1='Friend: Hello, I am having an issue with my order # 412889912'\n",
        "\n",
        "pattern = 'order[^\\d]*(\\d*)'\n",
        "matches = re.findall(pattern, chat1)\n",
        "matches"
      ]
    },
    {
      "cell_type": "code",
      "execution_count": null,
      "metadata": {
        "id": "P-i4M0W4p2nH",
        "outputId": "2d42dfe2-c40d-4dc4-9390-770561da3695"
      },
      "outputs": [
        {
          "data": {
            "text/plain": [
              "['412889912']"
            ]
          },
          "execution_count": 57,
          "metadata": {},
          "output_type": "execute_result"
        }
      ],
      "source": [
        "chat2='Friend: I have a problem with my order number 412889912'\n",
        "pattern = 'order[^\\d]*(\\d*)'\n",
        "matches = re.findall(pattern, chat2)\n",
        "matches"
      ]
    },
    {
      "cell_type": "code",
      "execution_count": null,
      "metadata": {
        "scrolled": true,
        "id": "G0_Z9v3Hp2nI",
        "outputId": "b84f4dd0-19f2-4cec-98f3-30c06be42541"
      },
      "outputs": [
        {
          "data": {
            "text/plain": [
              "['412889912']"
            ]
          },
          "execution_count": 58,
          "metadata": {},
          "output_type": "execute_result"
        }
      ],
      "source": [
        "chat3='Friend: My order 412889912 is having an issue, I was charged 300$ when online it says 280$'\n",
        "pattern = 'order[^\\d]*(\\d*)'\n",
        "matches = re.findall(pattern, chat3)\n",
        "matches"
      ]
    },
    {
      "cell_type": "code",
      "execution_count": null,
      "metadata": {
        "id": "Od2ePPxyp2nJ"
      },
      "outputs": [],
      "source": [
        "def get_pattern_match(pattern, text):\n",
        "    matches = re.findall(pattern, text)\n",
        "    if matches:\n",
        "        return matches[0]"
      ]
    },
    {
      "cell_type": "code",
      "execution_count": null,
      "metadata": {
        "id": "VITQ1Dxpp2nK",
        "outputId": "ecd26a1b-e09c-403e-8160-c7ddd753060a"
      },
      "outputs": [
        {
          "data": {
            "text/plain": [
              "'412889912'"
            ]
          },
          "execution_count": 60,
          "metadata": {},
          "output_type": "execute_result"
        }
      ],
      "source": [
        "get_pattern_match('order[^\\d]*(\\d*)', chat1)"
      ]
    },
    {
      "cell_type": "markdown",
      "metadata": {
        "id": "Cw4iWaQnp2nM"
      },
      "source": [
        "<h3>Retrieve email id and phone</h3>"
      ]
    },
    {
      "cell_type": "code",
      "execution_count": null,
      "metadata": {
        "id": "YJJqbCnvp2nN"
      },
      "outputs": [],
      "source": [
        "chat1 = 'Friend: you ask lot of questions 😠  1235678912, abc@xyz.com'\n",
        "chat2 = 'Friend: here it is: (123)-567-8912, abc@xyz.com'\n",
        "chat3 = 'Friend: yes, phone: 1235678912 email: abc@xyz.com'"
      ]
    },
    {
      "cell_type": "markdown",
      "metadata": {
        "id": "v6zmL734p2nO"
      },
      "source": [
        "**-----Email id-----**"
      ]
    },
    {
      "cell_type": "code",
      "execution_count": null,
      "metadata": {
        "id": "2AQ2stq9p2nO",
        "outputId": "de37ec4e-81d9-4939-f3cb-7dccf5b0017d"
      },
      "outputs": [
        {
          "data": {
            "text/plain": [
              "'abc@xyz.com'"
            ]
          },
          "execution_count": 62,
          "metadata": {},
          "output_type": "execute_result"
        }
      ],
      "source": [
        "get_pattern_match('[a-zA-Z0-9_]*@[a-z]*\\.[a-zA-Z0-9]*',chat1)"
      ]
    },
    {
      "cell_type": "code",
      "execution_count": null,
      "metadata": {
        "id": "QkFVY22dp2nP",
        "outputId": "38918450-1902-470e-f91d-fdca1c2ac787"
      },
      "outputs": [
        {
          "data": {
            "text/plain": [
              "'abc@xyz.com'"
            ]
          },
          "execution_count": 63,
          "metadata": {},
          "output_type": "execute_result"
        }
      ],
      "source": [
        "get_pattern_match('[a-zA-Z0-9_]*@[a-z]*\\.[a-zA-Z0-9]*',chat2)"
      ]
    },
    {
      "cell_type": "code",
      "execution_count": null,
      "metadata": {
        "scrolled": true,
        "id": "Oz5LW1ZNp2nP",
        "outputId": "166f8470-6857-458a-8a1e-e74315f3bac6"
      },
      "outputs": [
        {
          "data": {
            "text/plain": [
              "'abc@xyz.com'"
            ]
          },
          "execution_count": 64,
          "metadata": {},
          "output_type": "execute_result"
        }
      ],
      "source": [
        "get_pattern_match('[a-zA-Z0-9_]*@[a-z]*\\.[a-zA-Z0-9]*',chat3)"
      ]
    },
    {
      "cell_type": "markdown",
      "metadata": {
        "id": "pQsvsewxp2nQ"
      },
      "source": [
        "**-----Phone number-----**"
      ]
    },
    {
      "cell_type": "code",
      "execution_count": null,
      "metadata": {
        "id": "TXspwq_8p2nQ",
        "outputId": "b2d11002-5e4e-48ca-e354-4600383f6c96"
      },
      "outputs": [
        {
          "data": {
            "text/plain": [
              "'1235678912'"
            ]
          },
          "execution_count": 39,
          "metadata": {},
          "output_type": "execute_result"
        }
      ],
      "source": [
        "get_pattern_match('(\\d{10})|(\\(\\d{3}\\)-\\d{3}-\\d{4})',chat1)"
      ]
    },
    {
      "cell_type": "code",
      "execution_count": null,
      "metadata": {
        "id": "CJ-IzpHNp2nQ",
        "outputId": "54cf3430-694a-430d-ceda-4a0811dd73c0"
      },
      "outputs": [
        {
          "data": {
            "text/plain": [
              "('', '(123)-567-8912')"
            ]
          },
          "execution_count": 67,
          "metadata": {},
          "output_type": "execute_result"
        }
      ],
      "source": [
        "get_pattern_match('(\\d{10})|(\\(\\d{3}\\)-\\d{3}-\\d{4})', chat2)"
      ]
    },
    {
      "cell_type": "code",
      "execution_count": null,
      "metadata": {
        "id": "CEX36IV6p2nR",
        "outputId": "94407b79-0858-414b-e6b7-c38f0bfebb7a"
      },
      "outputs": [
        {
          "data": {
            "text/plain": [
              "('1235678912', '')"
            ]
          },
          "execution_count": 68,
          "metadata": {},
          "output_type": "execute_result"
        }
      ],
      "source": [
        "get_pattern_match('(\\d{10})|(\\(\\d{3}\\)-\\d{3}-\\d{4})', chat3)"
      ]
    },
    {
      "cell_type": "markdown",
      "metadata": {
        "id": "HnC32XKZp2nR"
      },
      "source": [
        "<h3>(2) Regex for Information Extraction</h3>"
      ]
    },
    {
      "cell_type": "code",
      "execution_count": null,
      "metadata": {
        "id": "vBTeQ6Ygp2nS"
      },
      "outputs": [],
      "source": [
        "text='''\n",
        "Born\tElon Reeve Musk\n",
        "June 28, 1971 (age 50)\n",
        "Pretoria, Transvaal, South Africa\n",
        "Citizenship\n",
        "South Africa (1971–present)\n",
        "Canada (1971–present)\n",
        "United States (2002–present)\n",
        "Education\tUniversity of Pennsylvania (BS, BA)\n",
        "Title\n",
        "Founder, CEO and Chief Engineer of SpaceX\n",
        "CEO and product architect of Tesla, Inc.\n",
        "Founder of The Boring Company and X.com (now part of PayPal)\n",
        "Co-founder of Neuralink, OpenAI, and Zip2\n",
        "Spouse(s)\n",
        "Justine Wilson\n",
        "​\n",
        "​(m. 2000; div. 2008)​\n",
        "Talulah Riley\n",
        "​\n",
        "​(m. 2010; div. 2012)​\n",
        "​\n",
        "​(m. 2013; div. 2016)\n",
        "'''"
      ]
    },
    {
      "cell_type": "code",
      "execution_count": null,
      "metadata": {
        "id": "GgVoKeq_p2nS",
        "outputId": "13d96660-7ea6-4f06-ac9c-e0809d86deb8"
      },
      "outputs": [
        {
          "data": {
            "text/plain": [
              "'50'"
            ]
          },
          "execution_count": 71,
          "metadata": {},
          "output_type": "execute_result"
        }
      ],
      "source": [
        "get_pattern_match(r'age (\\d+)', text)"
      ]
    },
    {
      "cell_type": "code",
      "execution_count": null,
      "metadata": {
        "id": "MMe9SoxQp2nT",
        "outputId": "b1a7846f-5e7f-4829-95f7-7ffc17bcd40e"
      },
      "outputs": [
        {
          "data": {
            "text/plain": [
              "'Elon Reeve Musk'"
            ]
          },
          "execution_count": 73,
          "metadata": {},
          "output_type": "execute_result"
        }
      ],
      "source": [
        "get_pattern_match(r'Born(.*)\\n', text).strip()"
      ]
    },
    {
      "cell_type": "code",
      "execution_count": null,
      "metadata": {
        "id": "s47YIzzep2nT",
        "outputId": "c2a82dfa-9224-484b-df19-b1ba212e05cc"
      },
      "outputs": [
        {
          "data": {
            "text/plain": [
              "'June 28, 1971'"
            ]
          },
          "execution_count": 74,
          "metadata": {},
          "output_type": "execute_result"
        }
      ],
      "source": [
        "get_pattern_match(r'Born.*\\n(.*)\\(age', text).strip()"
      ]
    },
    {
      "cell_type": "code",
      "execution_count": null,
      "metadata": {
        "id": "dpTa7dZfp2nT",
        "outputId": "851e89d6-57a1-4f08-f5ea-feb48da5957a"
      },
      "outputs": [
        {
          "data": {
            "text/plain": [
              "'Pretoria, Transvaal, South Africa'"
            ]
          },
          "execution_count": 75,
          "metadata": {},
          "output_type": "execute_result"
        }
      ],
      "source": [
        "get_pattern_match(r'\\(age.*\\n(.*)', text)"
      ]
    },
    {
      "cell_type": "code",
      "execution_count": null,
      "metadata": {
        "id": "8HLC_6gBp2nU"
      },
      "outputs": [],
      "source": [
        "def extract_personal_information(text):\n",
        "    age = get_pattern_match('age (\\d+)', text)\n",
        "    full_name = get_pattern_match('Born(.*)\\n', text)\n",
        "    birth_date = get_pattern_match('Born.*\\n(.*)\\(age', text)\n",
        "    birth_place = get_pattern_match('\\(age.*\\n(.*)', text)\n",
        "    return {\n",
        "        'age': int(age),\n",
        "        'name': full_name.strip(),\n",
        "        'birth_date': birth_date.strip(),\n",
        "        'birth_place': birth_place.strip()\n",
        "    }"
      ]
    },
    {
      "cell_type": "code",
      "execution_count": null,
      "metadata": {
        "id": "FrcqVJFsp2nU",
        "outputId": "c1a45d7d-389c-4855-fb95-9d85246c755f"
      },
      "outputs": [
        {
          "data": {
            "text/plain": [
              "{'age': 50,\n",
              " 'name': 'Elon Reeve Musk',\n",
              " 'birth_date': 'June 28, 1971',\n",
              " 'birth_place': 'Pretoria, Transvaal, South Africa'}"
            ]
          },
          "execution_count": 79,
          "metadata": {},
          "output_type": "execute_result"
        }
      ],
      "source": [
        "extract_personal_information(text)"
      ]
    },
    {
      "cell_type": "code",
      "execution_count": null,
      "metadata": {
        "id": "X8Vcg8Lmp2nV"
      },
      "outputs": [],
      "source": [
        "text = '''\n",
        "Born\tMukesh Dhirubhai Ambani\n",
        "19 April 1957 (age 64)\n",
        "Aden, Colony of Aden\n",
        "(present-day Yemen)[1][2]\n",
        "Nationality\tIndian\n",
        "Alma mater\n",
        "St. Xavier's College, Mumbai\n",
        "Institute of Chemical Technology (B.E.)\n",
        "Stanford University (drop-out)\n",
        "Occupation\tChairman and MD, Reliance Industries\n",
        "Spouse(s)\tNita Ambani ​(m. 1985)​[3]\n",
        "Children\t3\n",
        "Parent(s)\n",
        "Dhirubhai Ambani (father)\n",
        "Kokilaben Ambani (mother)\n",
        "Relatives\tAnil Ambani (brother)\n",
        "Tina Ambani (sister-in-law)\n",
        "'''"
      ]
    },
    {
      "cell_type": "code",
      "execution_count": null,
      "metadata": {
        "scrolled": true,
        "id": "f52m3DCMp2nV",
        "outputId": "80dc16b3-2fca-4a17-bbf7-4928b5b35f7b"
      },
      "outputs": [
        {
          "data": {
            "text/plain": [
              "{'age': 64,\n",
              " 'name': 'Mukesh Dhirubhai Ambani',\n",
              " 'birth_date': '19 April 1957',\n",
              " 'birth_place': 'Aden, Colony of Aden'}"
            ]
          },
          "execution_count": 81,
          "metadata": {},
          "output_type": "execute_result"
        }
      ],
      "source": [
        "extract_personal_information(text)"
      ]
    }
  ],
  "metadata": {
    "kernelspec": {
      "display_name": "Python 3",
      "language": "python",
      "name": "python3"
    },
    "language_info": {
      "codemirror_mode": {
        "name": "ipython",
        "version": 3
      },
      "file_extension": ".py",
      "mimetype": "text/x-python",
      "name": "python",
      "nbconvert_exporter": "python",
      "pygments_lexer": "ipython3",
      "version": "3.8.5"
    },
    "colab": {
      "provenance": [],
      "include_colab_link": true
    }
  },
  "nbformat": 4,
  "nbformat_minor": 0
}